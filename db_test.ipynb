{
 "cells": [
  {
   "cell_type": "code",
   "execution_count": 1,
   "metadata": {},
   "outputs": [],
   "source": [
    "from langchain import OpenAI, SQLDatabase, SQLDatabaseChain, HuggingFaceHub"
   ]
  },
  {
   "cell_type": "code",
   "execution_count": 2,
   "metadata": {},
   "outputs": [],
   "source": [
    "from dotenv import load_dotenv\n",
    "from dotenv import dotenv_values\n",
    "\n",
    "load_dotenv() \n",
    "config = dotenv_values(\".env\")"
   ]
  },
  {
   "cell_type": "code",
   "execution_count": 3,
   "metadata": {},
   "outputs": [],
   "source": [
    "# Setup database\n",
    "db = SQLDatabase.from_uri(\n",
    "    f\"postgresql+psycopg2://{config['DB_USERNAME']}:{config['DB_PASSWORD']}@{config['DB_SERVER']}:{config['DB_PORT']}/{config['DB_NAME']}\"\n",
    ")"
   ]
  },
  {
   "cell_type": "code",
   "execution_count": 4,
   "metadata": {},
   "outputs": [
    {
     "name": "stderr",
     "output_type": "stream",
     "text": [
      "d:\\ml_projects\\llm_experiments\\venv\\lib\\site-packages\\tqdm\\auto.py:21: TqdmWarning: IProgress not found. Please update jupyter and ipywidgets. See https://ipywidgets.readthedocs.io/en/stable/user_install.html\n",
      "  from .autonotebook import tqdm as notebook_tqdm\n"
     ]
    }
   ],
   "source": [
    "llm = HuggingFaceHub(repo_id=\"EleutherAI/gpt-neox-20b\", huggingfacehub_api_token=f\"{config['HUGGINGFACE_TOKEN']}\", model_kwargs={\"tempearture\":0.5, \"max_length\": 512})"
   ]
  },
  {
   "cell_type": "code",
   "execution_count": 5,
   "metadata": {},
   "outputs": [
    {
     "name": "stderr",
     "output_type": "stream",
     "text": [
      "d:\\ml_projects\\llm_experiments\\venv\\lib\\site-packages\\langchain\\chains\\sql_database\\base.py:63: UserWarning: Directly instantiating an SQLDatabaseChain with an llm is deprecated. Please instantiate with llm_chain argument or using the from_llm class method.\n",
      "  warnings.warn(\n"
     ]
    }
   ],
   "source": [
    "from langchain import PromptTemplate, LLMChain\n",
    "\n",
    "# Setup the database chain\n",
    "# llm_chain = LLMChain(llm=llm)\n",
    "db_chain = SQLDatabaseChain(database=db, verbose=True, llm=llm, top_k=1)"
   ]
  },
  {
   "cell_type": "code",
   "execution_count": 6,
   "metadata": {},
   "outputs": [
    {
     "name": "stdout",
     "output_type": "stream",
     "text": [
      "\n",
      "\n",
      "\u001b[1m> Entering new SQLDatabaseChain chain...\u001b[0m\n",
      "What is the average age of person?\n",
      "SQLQuery:\u001b[32;1m\u001b[1;3mSELECT AVG(age) FROM person\u001b[0m\n",
      "SQLResult: \u001b[33;1m\u001b[1;3m[(Decimal('31.6666666666666667'),)]\u001b[0m\n",
      "Answer:\u001b[32;1m\u001b[1;3m31.666666666666666666666666666666666666666666666666666666666666666666666666\u001b[0m\n",
      "\u001b[1m> Finished chain.\u001b[0m\n",
      "31.666666666666666666666666666666666666666666666666666666666666666666666666\n"
     ]
    }
   ],
   "source": [
    "result = db_chain.run(\"What is the average age of person?\")\n",
    "\n",
    "print(result)"
   ]
  },
  {
   "cell_type": "code",
   "execution_count": null,
   "metadata": {},
   "outputs": [],
   "source": []
  }
 ],
 "metadata": {
  "kernelspec": {
   "display_name": "venv",
   "language": "python",
   "name": "python3"
  },
  "language_info": {
   "codemirror_mode": {
    "name": "ipython",
    "version": 3
   },
   "file_extension": ".py",
   "mimetype": "text/x-python",
   "name": "python",
   "nbconvert_exporter": "python",
   "pygments_lexer": "ipython3",
   "version": "3.10.11"
  },
  "orig_nbformat": 4
 },
 "nbformat": 4,
 "nbformat_minor": 2
}
